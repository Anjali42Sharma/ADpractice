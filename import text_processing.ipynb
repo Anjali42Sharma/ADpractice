{
 "cells": [
  {
   "cell_type": "code",
   "execution_count": 5,
   "id": "aba6594a-4c55-489e-b706-c34594131cf0",
   "metadata": {},
   "outputs": [],
   "source": [
    "import text_processing as tp"
   ]
  },
  {
   "cell_type": "code",
   "execution_count": 6,
   "id": "df38fe7d-406d-4535-9b99-6700f5b76d84",
   "metadata": {},
   "outputs": [
    {
     "name": "stdout",
     "output_type": "stream",
     "text": [
      "hello i may be or average guy personality\n"
     ]
    }
   ],
   "source": [
    "inp_text = \"hello i may be a below or above average guy with personality\"\n",
    "output = tp.remove_sw(inp_text)\n",
    "print(output)"
   ]
  },
  {
   "cell_type": "code",
   "execution_count": 8,
   "id": "8d7d7603-b854-4ece-b6b0-74da84eebafb",
   "metadata": {},
   "outputs": [
    {
     "name": "stdout",
     "output_type": "stream",
     "text": [
      "Hello gg punch is removed ok alr \n"
     ]
    }
   ],
   "source": [
    "inp_text = \"Hello gg punch is removed ok! alr///😒 \"\n",
    "output = tp.remve_punc(inp_text)\n",
    "print(output)"
   ]
  },
  {
   "cell_type": "code",
   "execution_count": null,
   "id": "152fdc6d-1979-4463-94b0-5f3410d0673a",
   "metadata": {},
   "outputs": [],
   "source": []
  }
 ],
 "metadata": {
  "kernelspec": {
   "display_name": "Python 3 (ipykernel)",
   "language": "python",
   "name": "python3"
  },
  "language_info": {
   "codemirror_mode": {
    "name": "ipython",
    "version": 3
   },
   "file_extension": ".py",
   "mimetype": "text/x-python",
   "name": "python",
   "nbconvert_exporter": "python",
   "pygments_lexer": "ipython3",
   "version": "3.13.1"
  }
 },
 "nbformat": 4,
 "nbformat_minor": 5
}
