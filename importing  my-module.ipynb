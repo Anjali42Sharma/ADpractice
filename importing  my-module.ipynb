{
 "cells": [
  {
   "cell_type": "code",
   "execution_count": 7,
   "id": "269ebb21-9365-4534-802d-95a5654b13cc",
   "metadata": {},
   "outputs": [],
   "source": [
    "import my_module\n",
    "import numpy as np"
   ]
  },
  {
   "cell_type": "code",
   "execution_count": 8,
   "id": "2a0f1f4b-2ab4-4374-8fd5-21765a199f2b",
   "metadata": {},
   "outputs": [
    {
     "name": "stdout",
     "output_type": "stream",
     "text": [
      "Good Morning saiteja!\n"
     ]
    }
   ],
   "source": [
    "my_module.greet(\"saiteja\")"
   ]
  },
  {
   "cell_type": "code",
   "execution_count": 4,
   "id": "a9e8e71d-9946-4173-a39f-b3de0b4be16a",
   "metadata": {},
   "outputs": [
    {
     "data": {
      "text/plain": [
       "125"
      ]
     },
     "execution_count": 4,
     "metadata": {},
     "output_type": "execute_result"
    }
   ],
   "source": [
    "my_module.product(5,5,5)"
   ]
  },
  {
   "cell_type": "code",
   "execution_count": 5,
   "id": "1f319f32-66bc-4130-b136-bb33e76bdeb6",
   "metadata": {},
   "outputs": [
    {
     "data": {
      "text/plain": [
       "[2, 6, 8, 10]"
      ]
     },
     "execution_count": 5,
     "metadata": {},
     "output_type": "execute_result"
    }
   ],
   "source": [
    "l1 = [ 2,5,6,9,8,10 ]\n",
    "my_module.even(l1)"
   ]
  },
  {
   "cell_type": "code",
   "execution_count": null,
   "id": "992fd450-6605-4e57-950b-03d6e98df61f",
   "metadata": {},
   "outputs": [],
   "source": []
  },
  {
   "cell_type": "code",
   "execution_count": null,
   "id": "9d342e03-2fb2-42e4-a935-e1fbda43a9d1",
   "metadata": {},
   "outputs": [],
   "source": [
    "\n",
    "    "
   ]
  },
  {
   "cell_type": "code",
   "execution_count": null,
   "id": "ead3a404-4906-465e-b1cb-952d26d81cf3",
   "metadata": {},
   "outputs": [],
   "source": []
  }
 ],
 "metadata": {
  "kernelspec": {
   "display_name": "Python 3 (ipykernel)",
   "language": "python",
   "name": "python3"
  },
  "language_info": {
   "codemirror_mode": {
    "name": "ipython",
    "version": 3
   },
   "file_extension": ".py",
   "mimetype": "text/x-python",
   "name": "python",
   "nbconvert_exporter": "python",
   "pygments_lexer": "ipython3",
   "version": "3.13.1"
  }
 },
 "nbformat": 4,
 "nbformat_minor": 5
}
