{
 "cells": [
  {
   "cell_type": "code",
   "execution_count": 5,
   "id": "064f76ac-c939-46ad-b2c9-ba8c1a51cb8f",
   "metadata": {},
   "outputs": [
    {
     "name": "stdout",
     "output_type": "stream",
     "text": [
      "Hello  world lets remove the punctuations marks  shall we \n"
     ]
    }
   ],
   "source": [
    "\n",
    "'''punc_marks = ['.',',','\"','{','}',';',':','=','!','@','#','$','%','^','&','*','(',')','+','?' , '/','|','~','//','😒']\n",
    "inp_text = \"Hello , world lets remove the punctuations marks ? shall we😒 \"\n",
    "final = \"\"\n",
    "for i in inp_text:\n",
    "    if i in punc_marks:\n",
    "        continue \n",
    "    final = final + i\n",
    "print(final)\n",
    "'''"
   ]
  },
  {
   "cell_type": "code",
   "execution_count": 7,
   "id": "a1a95952-9be0-407d-8f90-3a6f952bc6db",
   "metadata": {},
   "outputs": [
    {
     "name": "stdout",
     "output_type": "stream",
     "text": [
      "Hello gg punch is removed ok alr \n"
     ]
    }
   ],
   "source": [
    "punc_marks = ['.', ',', '\"', '{', '}', ';', ':', '=', '!', '@', '#', '$', '%', '^', '&', '*', '(', ')', '+', '?', '/', '|', '~', '//', '😒']\n",
    "\n",
    "def remve_punc(inp_text):\n",
    "    final = \"\"\n",
    "    for char in inp_text:\n",
    "        if char in punc_marks:\n",
    "            continue\n",
    "        final += char\n",
    "    return final\n",
    "\n",
    "\n",
    "#inp_text = \"Hello gg punch is removed ok! alr///😒 \"\n",
    "#output = remve_punc(inp_text)\n",
    "#print(output)\n"
   ]
  },
  {
   "cell_type": "code",
   "execution_count": 9,
   "id": "9e6d5d7f-324b-4a1f-94bc-e111bef9c7c0",
   "metadata": {},
   "outputs": [
    {
     "name": "stdout",
     "output_type": "stream",
     "text": [
      "hello i may be or average guy personality\n"
     ]
    }
   ],
   "source": [
    "stop_words = ['a', 'the', 'of', 'below', 'above', 'with', 'for', 'underneath']\n",
    "\n",
    "def remove_sw(inp_text):\n",
    "    words = inp_text.split()\n",
    "    final_words = []\n",
    "    for word in words:\n",
    "        if word not in stop_words:\n",
    "            final_words.append(word)\n",
    "    return ' '.join(final_words)\n",
    "\n",
    "\n",
    "#inp_text = \"hello i may be a below or above average guy with personality\"\n",
    "#output = remove_sw(inp_text)\n",
    "#print(output)\n"
   ]
  },
  {
   "cell_type": "code",
   "execution_count": 13,
   "id": "1b6c0574-894e-45cf-a36e-c9a68aa5d00c",
   "metadata": {},
   "outputs": [
    {
     "name": "stdout",
     "output_type": "stream",
     "text": [
      "i\n",
      "may\n",
      "be\n",
      "a\n",
      "below\n",
      "or\n",
      "above\n",
      "average\n",
      "guy\n"
     ]
    }
   ],
   "source": [
    "def split(text):\n",
    "    words = text.split()\n",
    "    for word in words:\n",
    "        print(word)\n",
    "\n",
    "\n"
   ]
  },
  {
   "cell_type": "code",
   "execution_count": null,
   "id": "fbc10d5e-fe19-44ad-b1d4-e5584132c8c1",
   "metadata": {},
   "outputs": [],
   "source": []
  }
 ],
 "metadata": {
  "kernelspec": {
   "display_name": "Python 3 (ipykernel)",
   "language": "python",
   "name": "python3"
  },
  "language_info": {
   "codemirror_mode": {
    "name": "ipython",
    "version": 3
   },
   "file_extension": ".py",
   "mimetype": "text/x-python",
   "name": "python",
   "nbconvert_exporter": "python",
   "pygments_lexer": "ipython3",
   "version": "3.13.1"
  }
 },
 "nbformat": 4,
 "nbformat_minor": 5
}
