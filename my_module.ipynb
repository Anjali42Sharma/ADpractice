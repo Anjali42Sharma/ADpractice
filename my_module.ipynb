{
 "cells": [
  {
   "cell_type": "code",
   "execution_count": null,
   "id": "78034e5b-5b08-4de6-b38b-a541437ca122",
   "metadata": {},
   "outputs": [],
   "source": [
    "def mean_values(given_list):\n",
    "    total = sum(given_list)\n",
    "    avg_value = total/len(given_list)\n",
    "    return avg_value\n"
   ]
  },
  {
   "cell_type": "code",
   "execution_count": null,
   "id": "faa7a2db-e440-495b-b425-d4d17c734c90",
   "metadata": {},
   "outputs": [],
   "source": [
    "def greet(name):\n",
    "    \n",
    "    return f\"Good Morning, {name}!\"\n",
    "my_name = \"Anjali\"\n"
   ]
  },
  {
   "cell_type": "code",
   "execution_count": null,
   "id": "ae59ae91-584a-4521-9bce-9cd1eb2415dd",
   "metadata": {},
   "outputs": [],
   "source": []
  }
 ],
 "metadata": {
  "kernelspec": {
   "display_name": "Python 3 (ipykernel)",
   "language": "python",
   "name": "python3"
  },
  "language_info": {
   "codemirror_mode": {
    "name": "ipython",
    "version": 3
   },
   "file_extension": ".py",
   "mimetype": "text/x-python",
   "name": "python",
   "nbconvert_exporter": "python",
   "pygments_lexer": "ipython3",
   "version": "3.13.1"
  }
 },
 "nbformat": 4,
 "nbformat_minor": 5
}
